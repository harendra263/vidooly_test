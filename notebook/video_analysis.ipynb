{
 "cells": [
  {
   "cell_type": "code",
   "execution_count": 1,
   "id": "c68101a0",
   "metadata": {},
   "outputs": [],
   "source": [
    "import pandas as pd\n",
    "from sklearn.preprocessing import LabelEncoder\n",
    "import re\n",
    "\n",
    "import matplotlib.pyplot as plt\n",
    "import seaborn as sns\n",
    "import numpy as np\n",
    "\n",
    "from typing import List\n",
    "from tqdm import tqdm\n",
    "\n",
    "from sklearn.preprocessing import MinMaxScaler\n",
    "from sklearn.metrics import mean_absolute_error, mean_squared_error\n",
    "from sklearn.ensemble import RandomForestRegressor"
   ]
  },
  {
   "cell_type": "code",
   "execution_count": 2,
   "id": "36e03002",
   "metadata": {},
   "outputs": [],
   "source": [
    "import os\n",
    "\n",
    "# Where to save the figures\n",
    "PROJECT_ROOT_DIR = \"..\"\n",
    "CHAPTER_ID = \"end_to_end_project\"\n",
    "IMAGES_PATH = os.path.join(PROJECT_ROOT_DIR, \"images\", CHAPTER_ID)\n",
    "os.makedirs(IMAGES_PATH, exist_ok=True)\n",
    "\n",
    "def save_fig(fig_id, tight_layout=True, fig_extension=\"png\", resolution=120):\n",
    "    path = os.path.join(IMAGES_PATH, fig_id + \".\" + fig_extension)\n",
    "    print(\"Saving figure\", fig_id)\n",
    "    if tight_layout:\n",
    "        plt.tight_layout()\n",
    "    plt.savefig(path, format=fig_extension, dpi=resolution)"
   ]
  },
  {
   "cell_type": "code",
   "execution_count": 3,
   "id": "595212e7",
   "metadata": {},
   "outputs": [
    {
     "data": {
      "text/html": [
       "<div>\n",
       "<style scoped>\n",
       "    .dataframe tbody tr th:only-of-type {\n",
       "        vertical-align: middle;\n",
       "    }\n",
       "\n",
       "    .dataframe tbody tr th {\n",
       "        vertical-align: top;\n",
       "    }\n",
       "\n",
       "    .dataframe thead th {\n",
       "        text-align: right;\n",
       "    }\n",
       "</style>\n",
       "<table border=\"1\" class=\"dataframe\">\n",
       "  <thead>\n",
       "    <tr style=\"text-align: right;\">\n",
       "      <th></th>\n",
       "      <th>vidid</th>\n",
       "      <th>adview</th>\n",
       "      <th>views</th>\n",
       "      <th>likes</th>\n",
       "      <th>dislikes</th>\n",
       "      <th>comment</th>\n",
       "      <th>published</th>\n",
       "      <th>duration</th>\n",
       "      <th>category</th>\n",
       "    </tr>\n",
       "  </thead>\n",
       "  <tbody>\n",
       "    <tr>\n",
       "      <th>0</th>\n",
       "      <td>VID_18655</td>\n",
       "      <td>40</td>\n",
       "      <td>1031602</td>\n",
       "      <td>8523</td>\n",
       "      <td>363</td>\n",
       "      <td>1095</td>\n",
       "      <td>2016-09-14</td>\n",
       "      <td>PT7M37S</td>\n",
       "      <td>F</td>\n",
       "    </tr>\n",
       "    <tr>\n",
       "      <th>1</th>\n",
       "      <td>VID_14135</td>\n",
       "      <td>2</td>\n",
       "      <td>1707</td>\n",
       "      <td>56</td>\n",
       "      <td>2</td>\n",
       "      <td>6</td>\n",
       "      <td>2016-10-01</td>\n",
       "      <td>PT9M30S</td>\n",
       "      <td>D</td>\n",
       "    </tr>\n",
       "    <tr>\n",
       "      <th>2</th>\n",
       "      <td>VID_2187</td>\n",
       "      <td>1</td>\n",
       "      <td>2023</td>\n",
       "      <td>25</td>\n",
       "      <td>0</td>\n",
       "      <td>2</td>\n",
       "      <td>2016-07-02</td>\n",
       "      <td>PT2M16S</td>\n",
       "      <td>C</td>\n",
       "    </tr>\n",
       "    <tr>\n",
       "      <th>3</th>\n",
       "      <td>VID_23096</td>\n",
       "      <td>6</td>\n",
       "      <td>620860</td>\n",
       "      <td>777</td>\n",
       "      <td>161</td>\n",
       "      <td>153</td>\n",
       "      <td>2016-07-27</td>\n",
       "      <td>PT4M22S</td>\n",
       "      <td>H</td>\n",
       "    </tr>\n",
       "    <tr>\n",
       "      <th>4</th>\n",
       "      <td>VID_10175</td>\n",
       "      <td>1</td>\n",
       "      <td>666</td>\n",
       "      <td>1</td>\n",
       "      <td>0</td>\n",
       "      <td>0</td>\n",
       "      <td>2016-06-29</td>\n",
       "      <td>PT31S</td>\n",
       "      <td>D</td>\n",
       "    </tr>\n",
       "  </tbody>\n",
       "</table>\n",
       "</div>"
      ],
      "text/plain": [
       "       vidid  adview    views likes dislikes comment   published duration  \\\n",
       "0  VID_18655      40  1031602  8523      363    1095  2016-09-14  PT7M37S   \n",
       "1  VID_14135       2     1707    56        2       6  2016-10-01  PT9M30S   \n",
       "2   VID_2187       1     2023    25        0       2  2016-07-02  PT2M16S   \n",
       "3  VID_23096       6   620860   777      161     153  2016-07-27  PT4M22S   \n",
       "4  VID_10175       1      666     1        0       0  2016-06-29    PT31S   \n",
       "\n",
       "  category  \n",
       "0        F  \n",
       "1        D  \n",
       "2        C  \n",
       "3        H  \n",
       "4        D  "
      ]
     },
     "execution_count": 3,
     "metadata": {},
     "output_type": "execute_result"
    }
   ],
   "source": [
    "df = pd.read_csv(\"../input/train.csv\")\n",
    "df.head()"
   ]
  },
  {
   "cell_type": "code",
   "execution_count": 4,
   "id": "e5f56ca2",
   "metadata": {},
   "outputs": [],
   "source": [
    "df['video_duration'] = df.duration.apply(lambda x: re.findall(pattern='\\d+\\w+', string=x)[0])"
   ]
  },
  {
   "cell_type": "code",
   "execution_count": 5,
   "id": "be915ec8",
   "metadata": {},
   "outputs": [],
   "source": [
    "def get_time(time_ext: str, \n",
    "             duration: List[str], \n",
    "             time_name: str, \n",
    "             df: pd.DataFrame\n",
    "             )->pd.DataFrame:\n",
    "    for idx, x in enumerate(duration):\n",
    "        m = re.search(pattern=f\"\\d+{time_ext}\", string=x)\n",
    "        if m is not None:\n",
    "            df.loc[idx, time_name] = m.group()\n",
    "        else:\n",
    "            df.loc[idx, time_name] = f'0{time_ext}'\n",
    "    df[time_name] = df[time_name].str.replace(time_ext, '')\n",
    "    df[time_name] = df[time_name].astype(int)\n",
    "    return df"
   ]
  },
  {
   "cell_type": "code",
   "execution_count": 6,
   "id": "580d38ba",
   "metadata": {},
   "outputs": [],
   "source": [
    "df = get_time(time_ext='H', duration=df.video_duration.values, time_name='Hour', df=df)\n",
    "df = get_time(time_ext='M', duration=df.video_duration.values, time_name='Minute', df=df)\n",
    "df = get_time(time_ext='S', duration=df.video_duration.values, time_name='Second', df=df)\n"
   ]
  },
  {
   "cell_type": "code",
   "execution_count": 7,
   "id": "ff87f46e",
   "metadata": {},
   "outputs": [
    {
     "data": {
      "text/html": [
       "<div>\n",
       "<style scoped>\n",
       "    .dataframe tbody tr th:only-of-type {\n",
       "        vertical-align: middle;\n",
       "    }\n",
       "\n",
       "    .dataframe tbody tr th {\n",
       "        vertical-align: top;\n",
       "    }\n",
       "\n",
       "    .dataframe thead th {\n",
       "        text-align: right;\n",
       "    }\n",
       "</style>\n",
       "<table border=\"1\" class=\"dataframe\">\n",
       "  <thead>\n",
       "    <tr style=\"text-align: right;\">\n",
       "      <th></th>\n",
       "      <th>vidid</th>\n",
       "      <th>adview</th>\n",
       "      <th>views</th>\n",
       "      <th>likes</th>\n",
       "      <th>dislikes</th>\n",
       "      <th>comment</th>\n",
       "      <th>published</th>\n",
       "      <th>duration</th>\n",
       "      <th>category</th>\n",
       "      <th>video_duration</th>\n",
       "      <th>Total_Time</th>\n",
       "    </tr>\n",
       "  </thead>\n",
       "  <tbody>\n",
       "    <tr>\n",
       "      <th>0</th>\n",
       "      <td>VID_18655</td>\n",
       "      <td>40</td>\n",
       "      <td>1031602</td>\n",
       "      <td>8523</td>\n",
       "      <td>363</td>\n",
       "      <td>1095</td>\n",
       "      <td>2016-09-14</td>\n",
       "      <td>PT7M37S</td>\n",
       "      <td>F</td>\n",
       "      <td>7M37S</td>\n",
       "      <td>7.616667</td>\n",
       "    </tr>\n",
       "    <tr>\n",
       "      <th>1</th>\n",
       "      <td>VID_14135</td>\n",
       "      <td>2</td>\n",
       "      <td>1707</td>\n",
       "      <td>56</td>\n",
       "      <td>2</td>\n",
       "      <td>6</td>\n",
       "      <td>2016-10-01</td>\n",
       "      <td>PT9M30S</td>\n",
       "      <td>D</td>\n",
       "      <td>9M30S</td>\n",
       "      <td>9.500000</td>\n",
       "    </tr>\n",
       "    <tr>\n",
       "      <th>2</th>\n",
       "      <td>VID_2187</td>\n",
       "      <td>1</td>\n",
       "      <td>2023</td>\n",
       "      <td>25</td>\n",
       "      <td>0</td>\n",
       "      <td>2</td>\n",
       "      <td>2016-07-02</td>\n",
       "      <td>PT2M16S</td>\n",
       "      <td>C</td>\n",
       "      <td>2M16S</td>\n",
       "      <td>2.266667</td>\n",
       "    </tr>\n",
       "    <tr>\n",
       "      <th>3</th>\n",
       "      <td>VID_23096</td>\n",
       "      <td>6</td>\n",
       "      <td>620860</td>\n",
       "      <td>777</td>\n",
       "      <td>161</td>\n",
       "      <td>153</td>\n",
       "      <td>2016-07-27</td>\n",
       "      <td>PT4M22S</td>\n",
       "      <td>H</td>\n",
       "      <td>4M22S</td>\n",
       "      <td>4.366667</td>\n",
       "    </tr>\n",
       "    <tr>\n",
       "      <th>4</th>\n",
       "      <td>VID_10175</td>\n",
       "      <td>1</td>\n",
       "      <td>666</td>\n",
       "      <td>1</td>\n",
       "      <td>0</td>\n",
       "      <td>0</td>\n",
       "      <td>2016-06-29</td>\n",
       "      <td>PT31S</td>\n",
       "      <td>D</td>\n",
       "      <td>31S</td>\n",
       "      <td>0.516667</td>\n",
       "    </tr>\n",
       "  </tbody>\n",
       "</table>\n",
       "</div>"
      ],
      "text/plain": [
       "       vidid  adview    views likes dislikes comment   published duration  \\\n",
       "0  VID_18655      40  1031602  8523      363    1095  2016-09-14  PT7M37S   \n",
       "1  VID_14135       2     1707    56        2       6  2016-10-01  PT9M30S   \n",
       "2   VID_2187       1     2023    25        0       2  2016-07-02  PT2M16S   \n",
       "3  VID_23096       6   620860   777      161     153  2016-07-27  PT4M22S   \n",
       "4  VID_10175       1      666     1        0       0  2016-06-29    PT31S   \n",
       "\n",
       "  category video_duration  Total_Time  \n",
       "0        F          7M37S    7.616667  \n",
       "1        D          9M30S    9.500000  \n",
       "2        C          2M16S    2.266667  \n",
       "3        H          4M22S    4.366667  \n",
       "4        D            31S    0.516667  "
      ]
     },
     "execution_count": 7,
     "metadata": {},
     "output_type": "execute_result"
    }
   ],
   "source": [
    "# 1 hour = 60 min\n",
    "# 1 min = 60 sec\n",
    "# 1 sec = 1/60 min\n",
    "\n",
    "df[\"Second_to_min\"] = df[\"Second\"] / 60\n",
    "df[\"Hour_to_min\"] = df[\"Hour\"] *60\n",
    "df[\"Total_Time\"] = df[\"Second_to_min\"] + df[\"Hour_to_min\"] + df[\"Minute\"]\n",
    "df.drop([\"Hour\", \"Minute\", \"Second\", \"Second_to_min\", \"Hour_to_min\"], axis=1, inplace= True)\n",
    "\n",
    "df.head(5)\n",
    "    "
   ]
  },
  {
   "cell_type": "code",
   "execution_count": 8,
   "id": "c7bb4d2b",
   "metadata": {},
   "outputs": [],
   "source": [
    "label_enc = LabelEncoder()\n",
    "df['category_enc'] = label_enc.fit_transform(df.category)"
   ]
  },
  {
   "cell_type": "code",
   "execution_count": 9,
   "id": "1003c3f7",
   "metadata": {},
   "outputs": [],
   "source": [
    "import seaborn as sns"
   ]
  },
  {
   "cell_type": "code",
   "execution_count": 10,
   "id": "c940fc9d",
   "metadata": {},
   "outputs": [],
   "source": [
    "# df[df.comment==\"F\"].empty\n",
    "\n",
    "# df.drop(df[df.views=='F'].index, axis=0, inplace= True)\n",
    "# df.drop(df[df.likes=='F'].index, axis=0, inplace= True)\n",
    "# df.drop(df[df.comment=='F'].index, axis=0, inplace=True)"
   ]
  },
  {
   "cell_type": "code",
   "execution_count": 11,
   "id": "56621c1f",
   "metadata": {},
   "outputs": [
    {
     "name": "stdout",
     "output_type": "stream",
     "text": [
      "['adview', 'views', 'likes', 'dislikes', 'comment', 'Total_Time', 'category_enc']\n"
     ]
    }
   ],
   "source": [
    "# col_to_numeric = df.columns[df.dtypes==\"object\"]\n",
    "col_to_numeric = ['adview', 'views', 'likes', 'dislikes', 'comment', 'Total_Time', 'category_enc']\n",
    "print(col_to_numeric)"
   ]
  },
  {
   "cell_type": "code",
   "execution_count": 12,
   "id": "b9e86af2",
   "metadata": {},
   "outputs": [
    {
     "name": "stderr",
     "output_type": "stream",
     "text": [
      "100%|███████████████████████████████████████████████████████████████████████████████████████████████████████████████████████████████████████████████████| 7/7 [00:00<00:00, 158.72it/s]\n"
     ]
    }
   ],
   "source": [
    "for ele in tqdm(range(len(col_to_numeric))):\n",
    "    if df[df[col_to_numeric[ele]]=='F'].empty:\n",
    "        df= df\n",
    "    else:\n",
    "        df = df.drop(df[df[col_to_numeric[ele]]=='F'].index, axis=0)\n",
    "\n",
    "df[col_to_numeric] = df[col_to_numeric].astype(int)"
   ]
  },
  {
   "cell_type": "code",
   "execution_count": 13,
   "id": "c61b5096",
   "metadata": {},
   "outputs": [
    {
     "name": "stdout",
     "output_type": "stream",
     "text": [
      "Saving figure Views vs All Features\n"
     ]
    },
    {
     "data": {
      "image/png": "[encoded data removed]",
      "text/plain": [
       "<Figure size 1080x576 with 6 Axes>"
      ]
     },
     "metadata": {
      "needs_background": "light"
     },
     "output_type": "display_data"
    }
   ],
   "source": [
    "fig, axes= plt.subplots(nrows=3, ncols=2, figsize=(15, 8))\n",
    "fig.suptitle(\"No of Adviews\")\n",
    "\n",
    "axes[0, 0].scatter(df.views.values,df.comment.values)\n",
    "axes[0, 0].set_title(\"Views vs Comment\")\n",
    "axes[0, 0].set_xlabel(\"Views\")\n",
    "axes[0, 0].set_ylabel(\"Comments\")\n",
    "\n",
    "axes[0, 1].scatter(df.views.values,df.Total_Time.values, color=\"tab:orange\")\n",
    "axes[0, 1].set_title(\"Views vs Total Time\")\n",
    "axes[0, 1].set_xlabel(\"Views\")\n",
    "axes[0, 1].set_ylabel(\"Total Time\")\n",
    "\n",
    "axes[1, 0].scatter(df.views.values,df.dislikes.values, color=\"tab:green\")\n",
    "axes[1, 0].set_title(\"Views vs Dislikes\")\n",
    "axes[1, 0].set_xlabel(\"Views\")\n",
    "axes[1, 0].set_ylabel(\"Dislikes\")\n",
    "\n",
    "\n",
    "\n",
    "axes[1, 1].scatter(df.likes.values,df.views.values, marker='o', color=\"tab:red\")\n",
    "axes[1, 1].set_title(\"Views vs Likes\")\n",
    "axes[1, 1].set_xlabel(\"Views\")\n",
    "axes[1, 1].set_ylabel(\"Likes\")\n",
    "\n",
    "axes[2, 0].scatter(df.views.values,df.adview.values, color=\"tab:pink\")\n",
    "axes[2, 0].set_title(\"Views vs Adview\")\n",
    "axes[2, 0].set_xlabel(\"Views\")\n",
    "axes[2, 0].set_ylabel(\"Adview\")\n",
    "\n",
    "axes[2, 1].bar(df.category.values,df.adview.values, color=\"tab:grey\")\n",
    "axes[2, 1].set_title(\"Category vs Adview\")\n",
    "axes[2, 1].set_xlabel(\"Category\")\n",
    "axes[2, 1].set_ylabel(\"Adview\")\n",
    "\n",
    "plt.tight_layout()\n",
    "save_fig(\"Views vs All Features\")\n",
    "plt.show()\n"
   ]
  },
  {
   "cell_type": "code",
   "execution_count": 15,
   "id": "60e1794c",
   "metadata": {},
   "outputs": [
    {
     "data": {
      "text/html": [
       "<div>\n",
       "<style scoped>\n",
       "    .dataframe tbody tr th:only-of-type {\n",
       "        vertical-align: middle;\n",
       "    }\n",
       "\n",
       "    .dataframe tbody tr th {\n",
       "        vertical-align: top;\n",
       "    }\n",
       "\n",
       "    .dataframe thead th {\n",
       "        text-align: right;\n",
       "    }\n",
       "</style>\n",
       "<table border=\"1\" class=\"dataframe\">\n",
       "  <thead>\n",
       "    <tr style=\"text-align: right;\">\n",
       "      <th></th>\n",
       "      <th>adview</th>\n",
       "      <th>views</th>\n",
       "      <th>likes</th>\n",
       "      <th>dislikes</th>\n",
       "      <th>comment</th>\n",
       "      <th>Total_Time</th>\n",
       "      <th>category_enc</th>\n",
       "    </tr>\n",
       "  </thead>\n",
       "  <tbody>\n",
       "    <tr>\n",
       "      <th>0</th>\n",
       "      <td>40</td>\n",
       "      <td>1031602</td>\n",
       "      <td>8523</td>\n",
       "      <td>363</td>\n",
       "      <td>1095</td>\n",
       "      <td>7</td>\n",
       "      <td>5</td>\n",
       "    </tr>\n",
       "    <tr>\n",
       "      <th>1</th>\n",
       "      <td>2</td>\n",
       "      <td>1707</td>\n",
       "      <td>56</td>\n",
       "      <td>2</td>\n",
       "      <td>6</td>\n",
       "      <td>9</td>\n",
       "      <td>3</td>\n",
       "    </tr>\n",
       "    <tr>\n",
       "      <th>2</th>\n",
       "      <td>1</td>\n",
       "      <td>2023</td>\n",
       "      <td>25</td>\n",
       "      <td>0</td>\n",
       "      <td>2</td>\n",
       "      <td>2</td>\n",
       "      <td>2</td>\n",
       "    </tr>\n",
       "    <tr>\n",
       "      <th>3</th>\n",
       "      <td>6</td>\n",
       "      <td>620860</td>\n",
       "      <td>777</td>\n",
       "      <td>161</td>\n",
       "      <td>153</td>\n",
       "      <td>4</td>\n",
       "      <td>7</td>\n",
       "    </tr>\n",
       "    <tr>\n",
       "      <th>4</th>\n",
       "      <td>1</td>\n",
       "      <td>666</td>\n",
       "      <td>1</td>\n",
       "      <td>0</td>\n",
       "      <td>0</td>\n",
       "      <td>0</td>\n",
       "      <td>3</td>\n",
       "    </tr>\n",
       "  </tbody>\n",
       "</table>\n",
       "</div>"
      ],
      "text/plain": [
       "   adview    views  likes  dislikes  comment  Total_Time  category_enc\n",
       "0      40  1031602   8523       363     1095           7             5\n",
       "1       2     1707     56         2        6           9             3\n",
       "2       1     2023     25         0        2           2             2\n",
       "3       6   620860    777       161      153           4             7\n",
       "4       1      666      1         0        0           0             3"
      ]
     },
     "execution_count": 15,
     "metadata": {},
     "output_type": "execute_result"
    }
   ],
   "source": [
    "cols_to_drop = ['vidid', 'published', 'duration','category', 'video_duration']\n",
    "df.drop(cols_to_drop, axis=1, inplace=True)\n",
    "df.head()"
   ]
  },
  {
   "cell_type": "code",
   "execution_count": 16,
   "id": "bfe7b53e",
   "metadata": {},
   "outputs": [
    {
     "name": "stdout",
     "output_type": "stream",
     "text": [
      "Saving figure Correlation_plot.png\n"
     ]
    },
    {
     "data": {
      "image/png": "[encoded data removed]",
      "text/plain": [
       "<Figure size 432x288 with 2 Axes>"
      ]
     },
     "metadata": {
      "needs_background": "light"
     },
     "output_type": "display_data"
    }
   ],
   "source": [
    "correlations = df.corr()\n",
    "# annot=True displays the correlation values\n",
    "sns.heatmap(correlations, annot=True).set(title='Heatmap of YouTube Data - Pearson Correlations');\n",
    "save_fig(\"Correlation_plot.png\")"
   ]
  },
  {
   "cell_type": "markdown",
   "id": "6322fdc1",
   "metadata": {},
   "source": [
    "### Normalizaton of Dataset"
   ]
  },
  {
   "cell_type": "code",
   "execution_count": null,
   "id": "1e4c62be",
   "metadata": {},
   "outputs": [],
   "source": [
    "# from sklearn.preprocessing import StandardScaler\n",
    "\n",
    "# # Normalizing the data \n",
    "\n",
    "# scaler = StandardScaler()\n",
    "\n",
    "# names = df.columns\n",
    "# d = scaler.fit_transform(df)\n",
    "# scaled_df = pd.DataFrame(d, columns=names)\n",
    "# scaled_df.head()"
   ]
  },
  {
   "cell_type": "markdown",
   "id": "dc01c36d",
   "metadata": {},
   "source": [
    "### MODEL BUILDING"
   ]
  },
  {
   "cell_type": "code",
   "execution_count": 17,
   "id": "d85f4e1f",
   "metadata": {},
   "outputs": [],
   "source": [
    "from sklearn.model_selection import train_test_split"
   ]
  },
  {
   "cell_type": "code",
   "execution_count": 18,
   "id": "fe154b72",
   "metadata": {},
   "outputs": [],
   "source": [
    "SEED = 42\n",
    "\n",
    "X = df.drop(\"adview\", axis=1)\n",
    "y = df[\"adview\"]"
   ]
  },
  {
   "cell_type": "code",
   "execution_count": 19,
   "id": "96890d80",
   "metadata": {},
   "outputs": [],
   "source": [
    "X_train, X_test, y_train, y_test = train_test_split(X, y, test_size=0.2, random_state=SEED)"
   ]
  },
  {
   "cell_type": "code",
   "execution_count": 20,
   "id": "5975cd90",
   "metadata": {},
   "outputs": [
    {
     "name": "stdout",
     "output_type": "stream",
     "text": [
      "         views  likes  dislikes  comment  Total_Time  category_enc\n",
      "12545    26171     12         2        5          48             6\n",
      "7923     34417    143         2       44          10             3\n",
      "3012     26086     19         0        9           2             5\n",
      "1888    305445   3662        45      555           4             6\n",
      "5279    120739    766        16      227           4             6\n",
      "...        ...    ...       ...      ...         ...           ...\n",
      "5316     31648    140        24       14           3             6\n",
      "13747     3435     27         0        0           1             3\n",
      "5522    204817     86        35       11           3             3\n",
      "883    1361366   1384       757      185           4             6\n",
      "7445     39758    122         6        3           5             3\n",
      "\n",
      "[11709 rows x 6 columns]\n",
      "12545        1\n",
      "7923         3\n",
      "3012     18782\n",
      "1888         2\n",
      "5279         1\n",
      "         ...  \n",
      "5316     21127\n",
      "13747      809\n",
      "5522         1\n",
      "883          2\n",
      "7445         1\n",
      "Name: adview, Length: 11709, dtype: int64\n"
     ]
    }
   ],
   "source": [
    "print(X_train)\n",
    "print(y_train)"
   ]
  },
  {
   "cell_type": "code",
   "execution_count": 21,
   "id": "65952d3a",
   "metadata": {},
   "outputs": [
    {
     "name": "stdout",
     "output_type": "stream",
     "text": [
      "1477.6545989916608\n",
      "[ 2.25887888e-05  2.54675617e-01 -5.51899174e-01 -4.11062717e-01\n",
      " -1.18176656e+01  6.15435524e+00]\n",
      "       Actual    Predicted\n",
      "4912        5  1755.853549\n",
      "4921        2  1502.790045\n",
      "3813        5  1337.434804\n",
      "9092        1  1732.416845\n",
      "8486        1  1338.011258\n",
      "...       ...          ...\n",
      "3788        1  1517.683052\n",
      "12152       1  1258.774361\n",
      "9152        3  1603.773098\n",
      "769         2  1565.101968\n",
      "7039        5  3123.423119\n",
      "\n",
      "[2928 rows x 2 columns]\n"
     ]
    }
   ],
   "source": [
    "from sklearn.linear_model import LinearRegression\n",
    "regressor = LinearRegression()\n",
    "\n",
    "regressor.fit(X_train, y_train)\n",
    "\n",
    "print(regressor.intercept_)\n",
    "\n",
    "print(regressor.coef_)\n",
    "\n",
    "y_pred = regressor.predict(X_test)\n",
    "\n",
    "df_preds = pd.DataFrame({'Actual': y_test.squeeze(), 'Predicted': y_pred.squeeze()})\n",
    "print(df_preds)\n",
    "\n"
   ]
  },
  {
   "cell_type": "code",
   "execution_count": 30,
   "id": "0926717e",
   "metadata": {},
   "outputs": [
    {
     "name": "stdout",
     "output_type": "stream",
     "text": [
      "Mean absolute error: 4950.31\n",
      "Mean squared error: 10883666018.54\n",
      "Root mean squared error: 104324.81\n"
     ]
    }
   ],
   "source": [
    "mae = mean_absolute_error(y_test, y_pred)\n",
    "mse = mean_squared_error(y_test, y_pred)\n",
    "rmse = np.sqrt(mse)\n",
    "\n",
    "print(f'Mean absolute error: {mae:.2f}')\n",
    "print(f'Mean squared error: {mse:.2f}')\n",
    "print(f'Root mean squared error: {rmse:.2f}')"
   ]
  },
  {
   "cell_type": "code",
   "execution_count": 23,
   "id": "1fe2cf91",
   "metadata": {},
   "outputs": [],
   "source": [
    "regr = RandomForestRegressor(max_depth=2, random_state=SEED)\n",
    "regr.fit(X_train, y_train)\n",
    "\n",
    "# Train Score\n",
    "train_score = regr.score(X_train, y_train)\n",
    "\n",
    "# Test Score\n",
    "test_score = regr.score(X_test, y_test)\n",
    "\n",
    "# Write scores to a file\n",
    "with open('../input/metrics.txt', 'w') as outfile:\n",
    "    outfile.write(\"Training variance explained: %2.1f%%\\n\" % train_score)\n",
    "    outfile.write(\"Test varinace explained: %2.1f%%\\n\" % test_score)\n",
    "\n",
    "    "
   ]
  },
  {
   "cell_type": "markdown",
   "id": "6b208aeb",
   "metadata": {},
   "source": [
    "### PLOT FEATURE IMPORTANCE"
   ]
  },
  {
   "cell_type": "code",
   "execution_count": 24,
   "id": "d1c44a62",
   "metadata": {},
   "outputs": [
    {
     "data": {
      "text/plain": [
       "<function matplotlib.pyplot.close(fig=None)>"
      ]
     },
     "execution_count": 24,
     "metadata": {},
     "output_type": "execute_result"
    },
    {
     "data": {
      "image/png": "[encoded data removed]",
      "text/plain": [
       "<Figure size 432x288 with 1 Axes>"
      ]
     },
     "metadata": {},
     "output_type": "display_data"
    }
   ],
   "source": [
    "importance = regr.feature_importances_\n",
    "labels = df.columns\n",
    "feature_df = pd.DataFrame(list(zip(labels, importance)), columns=['Features', 'Importances'])\n",
    "\n",
    "\n",
    "# Image formatting\n",
    "\n",
    "axis_fs = 18\n",
    "title_fs = 22\n",
    "sns.set(style=\"whitegrid\")\n",
    "\n",
    "ax = sns.barplot(x = \"Features\", y=\"Importances\", data=feature_df)\n",
    "ax.set_xlabel(\"Feature\", fontsize=axis_fs)\n",
    "ax.set_ylabel(\"Importance\", fontsize = axis_fs)\n",
    "\n",
    "ax.set_title(\"Random Forest\\nFeature Importance\", fontsize= title_fs)\n",
    "\n",
    "plt.tight_layout()\n",
    "plt.savefig(os.path.join(IMAGES_PATH, \"imagesFeature_Importance.png\"), dpi=120)\n",
    "plt.close\n"
   ]
  },
  {
   "cell_type": "markdown",
   "id": "53861b8e",
   "metadata": {},
   "source": [
    "### PLOT RESIDUALS"
   ]
  },
  {
   "cell_type": "code",
   "execution_count": 29,
   "id": "5abb80b1",
   "metadata": {},
   "outputs": [
    {
     "data": {
      "image/png": "[encoded data removed]",
      "text/plain": [
       "<Figure size 432x288 with 1 Axes>"
      ]
     },
     "metadata": {},
     "output_type": "display_data"
    }
   ],
   "source": [
    "y_pred = regr.predict(X_test) + np.random.normal(0,0.25,len(y_test))\n",
    "y_jitter = y_test + np.random.normal(0,0.25,len(y_test))\n",
    "res_df = pd.DataFrame(list(zip(y_jitter,y_pred)), columns = [\"true\",\"pred\"])\n",
    "\n",
    "ax = sns.scatterplot(x=\"true\", y=\"pred\",data=res_df)\n",
    "ax.set_aspect('equal')\n",
    "ax.set_xlabel('True Adview',fontsize = axis_fs) \n",
    "ax.set_ylabel('Predicted Adview', fontsize = axis_fs)#ylabel\n",
    "ax.set_title('Residuals', fontsize = title_fs)\n",
    "\n",
    "# Make it pretty- square aspect ratio\n",
    "ax.plot([1, 10], [1, 10], 'black', linewidth=1)\n",
    "plt.ylim((2.5,8.5))\n",
    "plt.xlim((2.5,8.5))\n",
    "\n",
    "plt.tight_layout()\n",
    "plt.savefig(os.path.join(IMAGES_PATH, \"residuals.png\"),dpi=120)"
   ]
  },
  {
   "cell_type": "code",
   "execution_count": null,
   "id": "9beb2e4f",
   "metadata": {},
   "outputs": [],
   "source": []
  }
 ],
 "metadata": {
  "kernelspec": {
   "display_name": "Python 3 (ipykernel)",
   "language": "python",
   "name": "python3"
  },
  "language_info": {
   "codemirror_mode": {
    "name": "ipython",
    "version": 3
   },
   "file_extension": ".py",
   "mimetype": "text/x-python",
   "name": "python",
   "nbconvert_exporter": "python",
   "pygments_lexer": "ipython3",
   "version": "3.10.6"
  },
  "vscode": {
   "interpreter": {
    "hash": "fba5f585b348740fda72629bd49329eb784ac2fdf034470c01ddb0842f7f3666"
   }
  }
 },
 "nbformat": 4,
 "nbformat_minor": 5
}
